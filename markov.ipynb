{
 "cells": [
  {
   "cell_type": "code",
   "execution_count": 2,
   "metadata": {},
   "outputs": [],
   "source": [
    "from music21 import *\n",
    "import os\n",
    "from collections import defaultdict\n",
    "from pprint import *\n",
    "import numpy as np\n",
    "\n",
    "PITCHES = [\"C\", \"C#\", \"D\", \"D#\", \"E\", \"F\", \"F#\", \"G\", \"G#\", \"A\", \"A#\", \"B\"]\n",
    "OCTAVES = 7 #1 through 7\n",
    "base_dir = 'wikifonia_en_chords_lyrics'"
   ]
  },
  {
   "cell_type": "code",
   "execution_count": 66,
   "metadata": {
    "scrolled": true
   },
   "outputs": [
    {
     "data": {
      "text/plain": [
       "'C4'"
      ]
     },
     "execution_count": 66,
     "metadata": {},
     "output_type": "execute_result"
    }
   ],
   "source": [
    "def all_notes():\n",
    "    notes = []\n",
    "    for o in range(OCTAVES):\n",
    "        for p in PITCHES:\n",
    "\n",
    "            notes.append(p + str(o+1))\n",
    "    return notes\n",
    "ALL_NOTES = all_notes()\n",
    "ALL_NOTES[36]"
   ]
  },
  {
   "cell_type": "code",
   "execution_count": 3,
   "metadata": {
    "scrolled": true
   },
   "outputs": [],
   "source": [
    "\n",
    "NUM_PITCHES = 12\n",
    "MATRIX_SIZE = NUM_PITCHES * OCTAVES\n",
    "# MATRIX_SIZE = NUM_PITCHES * OCTAVES\n",
    "\n",
    "def noteToIndex(n):\n",
    "    return int(n.pitch.ps)-24\n",
    "\n",
    "assert(noteToIndex(note.Note(\"C4\"))==36)\n",
    "\n",
    "\"\"\"\n",
    "Given a score, generates the transition matrix. Helper function\n",
    "for `generateTransitionMatrix` below.\n",
    "NOTE: only works for C Major, transpose the piece to CM.\n",
    "\"\"\"\n",
    "def getTransitions(score): \n",
    "    matrix = np.zeros((MATRIX_SIZE, MATRIX_SIZE), dtype=np.uintc)\n",
    "    transitions = {}\n",
    "    notes = [n for n in score.recurse() if type(n) == note.Note]\n",
    "    last_note = notes[0]\n",
    "    for n in notes[1:]:\n",
    "        last_idx = noteToIndex(last_note)\n",
    "        cur_idx = noteToIndex(n)\n",
    "        matrix[last_idx, cur_idx] += 1\n",
    "        last_note = n\n",
    "    return matrix\n",
    "    \n",
    "# debug transitions\n",
    "# f = os.listdir(base_dir)[3]\n",
    "# path = os.path.join(base_dir,f)\n",
    "# score = converter.parse(path)\n",
    "# matrix = getTransitions(score)\n",
    "# matrix"
   ]
  },
  {
   "cell_type": "code",
   "execution_count": 67,
   "metadata": {},
   "outputs": [],
   "source": [
    "# ############SMALL#############\n",
    "\n",
    "# NUM_PITCHES = 12\n",
    "# # MATRIX_SIZE = NUM_PITCHES * OCTAVES\n",
    "# MATRIX_SIZE = 12\n",
    "\n",
    "# def noteToIndex(n):\n",
    "#     return int(n.pitch.ps)%12\n",
    "\n",
    "# # assert(noteToIndex(note.Note(\"C4\"))==36)\n",
    "\n",
    "# \"\"\"\n",
    "# Given a score, generates the transition matrix. Helper function\n",
    "# for `generateTransitionMatrix` below.\n",
    "# NOTE: only works for C Major, transpose the piece to CM.\n",
    "# \"\"\"\n",
    "# def getTransitions(score): \n",
    "#     matrix = np.zeros((MATRIX_SIZE, MATRIX_SIZE), dtype=np.uintc)\n",
    "#     transitions = {}\n",
    "#     notes = [n for n in score.recurse() if type(n) == note.Note]\n",
    "#     last_note = notes[0]\n",
    "#     for n in notes[1:]:\n",
    "#         last_idx = noteToIndex(last_note)\n",
    "#         cur_idx = noteToIndex(n)\n",
    "#         matrix[last_idx, cur_idx] += 1\n",
    "#         last_note = n\n",
    "#     return matrix\n",
    "    \n",
    "# # debug transitions\n",
    "# # f = os.listdir(base_dir)[3]\n",
    "# # path = os.path.join(base_dir,f)\n",
    "# # score = converter.parse(path)\n",
    "# # matrix = getTransitions(score)\n",
    "# # matrix\n",
    "\n",
    "# \"\"\"prints transition matrix. looks slightly cancerous but it works\"\"\"\n",
    "# def printTransitionMatrix(matrix, tabsize=4):\n",
    "#     print((\"\\t\" + \"\\t\".join(PITCHES)).expandtabs(tabsize))\n",
    "#     for i in range(matrix.shape[0]):\n",
    "#         print((PITCHES[i] + \"\\t\" + \"\\t\".join((str(s) for s in list(matrix[i])))).expandtabs(tabsize))\n",
    "    \n",
    "# # example\n",
    "# # f = os.listdir(base_dir)[5] \n",
    "# # path = os.path.join(base_dir,f)\n",
    "# # score = converter.parse(path) \n",
    "# # m = getTransitions(score)\n",
    "# # printTransitionMatrix(m, tabsize=3)\n",
    "\n",
    "# \"\"\" \n",
    "# Generates transitiion matrix for first 10 C Major pieces\n",
    "# Currently filters for CM, can add in transposition later\n",
    "# \"\"\"\n",
    "# def generateTransitionMatrix(base_dir, load=True, save=False):\n",
    "#     path = 'pitch_to_pitch.npy'\n",
    "#     if load:\n",
    "#         with open(path, 'rb') as f:\n",
    "#             a = np.load(f)\n",
    "#         return a\n",
    "#     else:\n",
    "#         count = 0\n",
    "#         count_not = 0\n",
    "#         num_pieces = 10\n",
    "#         matrix = np.zeros((MATRIX_SIZE, MATRIX_SIZE), dtype=np.uintc)\n",
    "#         for i in range(len(os.listdir(base_dir))):\n",
    "#             f = os.listdir(base_dir)[i]\n",
    "#             try:\n",
    "#                 path = os.path.join(base_dir,f)\n",
    "#                 score = converter.parse(path)\n",
    "#             except: \n",
    "#                 continue\n",
    "#             score = transpose_to_c(score)\n",
    "#             k = score.analyze('key')\n",
    "\n",
    "#             if k.name == \"C major\":\n",
    "#                 m = getTransitions(score)\n",
    "#                 matrix = matrix + m\n",
    "#                 count += 1\n",
    "#             else:\n",
    "#                 count_not += 1\n",
    "\n",
    "#             if count >= num_pieces:\n",
    "#                 break\n",
    "#         matrix = (matrix)\n",
    "        \n",
    "#         if save:\n",
    "#             with open(path, 'wb+') as f:\n",
    "#                 np.save(f, matrix)\n",
    "\n",
    "#         return matrix\n",
    "\n",
    "# matrix = generateTransitionMatrix(base_dir, load=False, save=False)\n",
    "# # matrix\n",
    "# # printTransitionMatrix(matrix)"
   ]
  },
  {
   "cell_type": "code",
   "execution_count": 56,
   "metadata": {},
   "outputs": [
    {
     "data": {
      "image/png": "[encoded data removed]",
      "text/plain": [
       "<Figure size 504x504 with 2 Axes>"
      ]
     },
     "metadata": {
      "image/png": {
       "height": 400,
       "width": 415
      },
      "needs_background": "light"
     },
     "output_type": "display_data"
    }
   ],
   "source": [
    "import seaborn as sns\n",
    "import matplotlib.pylab as plt\n",
    "\n",
    "f, ax = plt.subplots(figsize=(7,7))\n",
    "ax = sns.heatmap(matrix, linewidth=0.01, square=True, xticklabels=PITCHES, yticklabels=PITCHES)\n",
    "ax.set_ylabel(\"End Note\")\n",
    "ax.set_xlabel(\"Start Note\")\n",
    "ax.invert_yaxis()\n",
    "\n",
    "# plt.show()\n",
    "plt.savefig(\"pitch_to_pitch.png\")"
   ]
  },
  {
   "cell_type": "code",
   "execution_count": 68,
   "metadata": {},
   "outputs": [],
   "source": [
    "\"\"\"Given a matrix of transition frequencies, converts\n",
    "them into transition probabilities\"\"\"\n",
    "def normalize(matrix):\n",
    "    normalized = np.zeros(matrix.shape)\n",
    "    sums = np.sum(matrix, axis=1)\n",
    "    print(sums)\n",
    "    for i in range(matrix.shape[0]):\n",
    "        for j in range(matrix.shape[1]):\n",
    "            if sums[i] == 0:\n",
    "                normalized[i,j] = 1/MATRIX_SIZE\n",
    "            else:\n",
    "                normalized[i,j] = matrix[i,j]/sums[i]\n",
    "    return normalized\n",
    "# normalize(np.array([[1,1],[0,2]]))\n"
   ]
  },
  {
   "cell_type": "code",
   "execution_count": 69,
   "metadata": {},
   "outputs": [],
   "source": [
    "# def transpose_to_c(score):\n",
    "#     \"\"\"\n",
    "#     Takes a score, and transposes it to C major.\n",
    "#     If the original score is not in major, returns None\n",
    "#     \"\"\"\n",
    "#     key_of_score = score.analyze('key')\n",
    "#     if 'major' not in str(key_of_score):\n",
    "#         return None\n",
    "#     i = interval.Interval(key_of_score.tonic, pitch.Pitch('C'))\n",
    "#     score_in_c = score.transpose(i)\n",
    "#     return score_c\n",
    "\n",
    "def transpose_to_c(sc):\n",
    "    \"\"\"\n",
    "    Normalizes a score to C_ionian\n",
    "\n",
    "    [Input] self\n",
    "    [Input] stream.Score sc - the score to transpose\n",
    "    [Output] stream.Score - the transposed score\n",
    "\n",
    "    [Todo] Make into a lazy generator\n",
    "    \"\"\"\n",
    "\n",
    "    k = sc.analyze('key')\n",
    "#     key = asato.keys[asato.titles[path]]\n",
    "    transposed_key = k.asKey(\"major\")\n",
    "\n",
    "    notes = sc.flat.getElementsByClass(note.Note)\n",
    "\n",
    "    if (len(notes) > 0):\n",
    "        n = next(notes)\n",
    "\n",
    "        # Modes of C are the identity; do not negate this\n",
    "        i = interval.Interval(n.pitch.ps - transposed_key.transposePitchFromC(n.pitch).ps)\n",
    "        return sc.transpose(i)\n",
    "    else:\n",
    "        return sc"
   ]
  },
  {
   "cell_type": "code",
   "execution_count": 4,
   "metadata": {
    "scrolled": true
   },
   "outputs": [
    {
     "data": {
      "text/plain": [
       "(84, 84)"
      ]
     },
     "execution_count": 4,
     "metadata": {},
     "output_type": "execute_result"
    }
   ],
   "source": [
    "\"\"\" \n",
    "Generates transitiion matrix for first 10 C Major pieces\n",
    "Currently filters for CM, can add in transposition later\n",
    "\"\"\"\n",
    "def generateTransitionMatrix(base_dir, load=True):\n",
    "    path = 'pitch_to_pitch.npy'\n",
    "    if load:\n",
    "        with open(path, 'rb') as f:\n",
    "            a = np.load(f)\n",
    "        return a\n",
    "    else:\n",
    "        count = 0\n",
    "        count_not = 0\n",
    "        num_pieces = 200\n",
    "        matrix = np.zeros((MATRIX_SIZE, MATRIX_SIZE), dtype=np.uintc)\n",
    "        for i in range(len(os.listdir(base_dir))):\n",
    "            f = os.listdir(base_dir)[i]\n",
    "            try:\n",
    "                path = os.path.join(base_dir,f)\n",
    "                score = converter.parse(path)\n",
    "            except: \n",
    "                continue\n",
    "            score = transpose_to_c(score)\n",
    "            k = score.analyze('key')\n",
    "#             print(k,'\\n')\n",
    "\n",
    "            if k.name == \"C major\":\n",
    "                m = getTransitions(score)\n",
    "                matrix = matrix + m\n",
    "                count += 1\n",
    "            else:\n",
    "#                 print(\"sad\",k)\n",
    "                count_not += 1\n",
    "\n",
    "            if count >= num_pieces:\n",
    "                break\n",
    "        matrix = normalize(matrix)\n",
    "        with open(path, 'wb+') as f:\n",
    "            np.save(f, matrix)\n",
    "\n",
    "        return matrix\n",
    "\n",
    "matrix = generateTransitionMatrix(base_dir, load=True)\n",
    "matrix.shape\n",
    "# printTransitionMatrix(matrix)"
   ]
  },
  {
   "cell_type": "code",
   "execution_count": 6,
   "metadata": {},
   "outputs": [
    {
     "data": {
      "image/png": "[encoded data removed]",
      "text/plain": [
       "<IPython.core.display.Image object>"
      ]
     },
     "metadata": {
      "image/png": {
       "height": 53,
       "width": 748
      }
     },
     "output_type": "display_data"
    },
    {
     "data": {
      "image/png": "[encoded data removed]",
      "text/plain": [
       "<IPython.core.display.Image object>"
      ]
     },
     "metadata": {
      "image/png": {
       "height": 50,
       "width": 438
      }
     },
     "output_type": "display_data"
    }
   ],
   "source": [
    "def all_notes():\n",
    "    notes = []\n",
    "    for o in range(OCTAVES):\n",
    "        for p in PITCHES:\n",
    "\n",
    "            notes.append(p + str(o+1))\n",
    "    return notes\n",
    "ALL_NOTES = all_notes()\n",
    "ALL_NOTES[36]\n",
    "\n",
    "def noteToIndex(n):\n",
    "    return int(n.pitch.ps)-24\n",
    "\n",
    "def getNext(matrix, n):\n",
    "    idx = noteToIndex(n)\n",
    "    transitions = matrix[idx,:]\n",
    "    choice = np.random.choice(a=ALL_NOTES, p=transitions)\n",
    "    return note.Note(choice)\n",
    "\n",
    "def generateMelody(matrix, length):\n",
    "    notes = []\n",
    "    s = stream.Stream()\n",
    "    start_note = note.Note('C4')\n",
    "    n = start_note\n",
    "    for i in range(length):\n",
    "        s.append(n)\n",
    "        n = getNext(matrix, n)\n",
    "    return s\n",
    "\n",
    "s = generateMelody(matrix, 10)\n",
    "s.show()\n",
    "s = generateMelody(matrix, 10)\n",
    "s.show()\n",
    "# s.show(\"midi\")"
   ]
  },
  {
   "cell_type": "code",
   "execution_count": 25,
   "metadata": {},
   "outputs": [
    {
     "name": "stdout",
     "output_type": "stream",
     "text": [
      "[   0    0    0    0    0    0    0    0    0    0    0    0    0    0\n",
      "    0    0    0    0    0    0    0    0    0    4    7    0   65   18\n",
      "  130  102   68  999   85 1141  161 1133 4115  183 4063  393 6081 3075\n",
      "  587 6987  487 5475  454 3075 6315  271 4222  370 4221 1418  284 1787\n",
      "  120  924   46  297  338   19   97   11   42    3    4    2    0    1\n",
      "    0    0    0    0    0    0    0    0    0    0    0    0    0    0]\n"
     ]
    },
    {
     "data": {
      "text/plain": [
       "(84, 84)"
      ]
     },
     "execution_count": 25,
     "metadata": {},
     "output_type": "execute_result"
    }
   ],
   "source": [
    "\"\"\" \n",
    "Generates transition matrix for pitch to chord.\n",
    "Currently filters for CM, can add in transposition later\n",
    "\"\"\"\n",
    "def generateTransitionMatrix(base_dir, load=True):\n",
    "    path = 'pitch_to_pitch.npy'\n",
    "    if load:\n",
    "        with open(path, 'rb') as f:\n",
    "            a = np.load(f)\n",
    "        return a\n",
    "    else:\n",
    "        count = 0\n",
    "        count_not = 0\n",
    "        num_pieces = 500\n",
    "        matrix = np.zeros((MATRIX_SIZE, MATRIX_SIZE), dtype=np.uintc)\n",
    "        for i in range(len(os.listdir(base_dir))):\n",
    "            f = os.listdir(base_dir)[i]\n",
    "            try:\n",
    "                path = os.path.join(base_dir,f)\n",
    "                score = converter.parse(path)\n",
    "            except: \n",
    "                continue\n",
    "            score = transpose_to_c(score)\n",
    "            k = score.analyze('key')\n",
    "#             print(k,'\\n')\n",
    "\n",
    "            if k.name == \"C major\" or k.name == \"A minor\":\n",
    "                m = getTransitions(score)\n",
    "                matrix = matrix + m\n",
    "                count += 1\n",
    "            else:\n",
    "                print(\"sad\",k)\n",
    "                print(k.name)\n",
    "                count_not += 1\n",
    "\n",
    "            if count >= num_pieces:\n",
    "                break\n",
    "        matrix = normalize(matrix)\n",
    "        with open(path, 'wb+') as f:\n",
    "            np.save(f, matrix)\n",
    "\n",
    "        return matrix\n",
    "\n",
    "matrix = generateTransitionMatrix(base_dir, load=False)\n",
    "matrix.shape\n",
    "# printTransitionMatrix(matrix)"
   ]
  },
  {
   "cell_type": "code",
   "execution_count": null,
   "metadata": {},
   "outputs": [],
   "source": []
  }
 ],
 "metadata": {
  "kernelspec": {
   "display_name": "Python 3",
   "language": "python",
   "name": "python3"
  },
  "language_info": {
   "codemirror_mode": {
    "name": "ipython",
    "version": 3
   },
   "file_extension": ".py",
   "mimetype": "text/x-python",
   "name": "python",
   "nbconvert_exporter": "python",
   "pygments_lexer": "ipython3",
   "version": "3.8.3"
  }
 },
 "nbformat": 4,
 "nbformat_minor": 4
}
