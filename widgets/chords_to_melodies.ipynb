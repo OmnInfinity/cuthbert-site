{
 "cells": [
  {
   "cell_type": "code",
   "execution_count": 6,
   "metadata": {},
   "outputs": [
    {
     "ename": "FileNotFoundError",
     "evalue": "[Errno 2] No such file or directory: 'widgets/CTM.pkl'",
     "output_type": "error",
     "traceback": [
      "\u001b[0;31m---------------------------------------------------------------------------\u001b[0m",
      "\u001b[0;31mFileNotFoundError\u001b[0m                         Traceback (most recent call last)",
      "\u001b[0;32m<ipython-input-6-0a8cbf5429e8>\u001b[0m in \u001b[0;36m<module>\u001b[0;34m\u001b[0m\n\u001b[1;32m      5\u001b[0m \u001b[0;32mfrom\u001b[0m \u001b[0mmusic21\u001b[0m \u001b[0;32mimport\u001b[0m \u001b[0;34m*\u001b[0m\u001b[0;34m\u001b[0m\u001b[0;34m\u001b[0m\u001b[0m\n\u001b[1;32m      6\u001b[0m \u001b[0;34m\u001b[0m\u001b[0m\n\u001b[0;32m----> 7\u001b[0;31m \u001b[0;32mwith\u001b[0m \u001b[0mopen\u001b[0m\u001b[0;34m(\u001b[0m\u001b[0;34m\"widgets/CTM.pkl\"\u001b[0m\u001b[0;34m,\u001b[0m \u001b[0;34m\"rb\"\u001b[0m\u001b[0;34m)\u001b[0m \u001b[0;32mas\u001b[0m \u001b[0mf\u001b[0m\u001b[0;34m:\u001b[0m\u001b[0;34m\u001b[0m\u001b[0;34m\u001b[0m\u001b[0m\n\u001b[0m\u001b[1;32m      8\u001b[0m     \u001b[0mrawdata\u001b[0m \u001b[0;34m=\u001b[0m \u001b[0mf\u001b[0m\u001b[0;34m.\u001b[0m\u001b[0mread\u001b[0m\u001b[0;34m(\u001b[0m\u001b[0;34m)\u001b[0m\u001b[0;34m\u001b[0m\u001b[0;34m\u001b[0m\u001b[0m\n\u001b[1;32m      9\u001b[0m \u001b[0;34m\u001b[0m\u001b[0m\n",
      "\u001b[0;31mFileNotFoundError\u001b[0m: [Errno 2] No such file or directory: 'widgets/CTM.pkl'"
     ]
    }
   ],
   "source": [
    "# nbi:hide_in\n",
    "import pickle\n",
    "from ipywidgets import interact\n",
    "import numpy as np\n",
    "from music21 import *\n",
    "\n",
    "with open(\"widgets/CTM.pkl\", \"rb\") as f:\n",
    "    rawdata = f.read()\n",
    "    \n",
    "harmonies_to_melodies = pickle.loads(rawdata)\n",
    "\n",
    "def chord_to_melody(c):\n",
    "    if c in harmonies_to_melodies.keys():\n",
    "        possible_melodies = harmonies_to_melodies[c]\n",
    "        if len(list(possible_melodies)) == 1:\n",
    "            return list(possible_melodies)[0]\n",
    "        else:\n",
    "            return np.random.choice(list(possible_melodies))\n",
    "    else:\n",
    "        return -1\n",
    "    \n",
    "def add_melody_to_list(part, melody):\n",
    "    for n in melody:\n",
    "        if n > 0:\n",
    "            part.append(note.Note(pitch.Pitch(n)))\n",
    "        else:\n",
    "            part.append(note.Rest(-n))\n",
    "    return part\n",
    "\n",
    "# nbi:hide_in\n",
    "def getChordAndMelody(random_seed):\n",
    "    np.random.seed(random_seed)\n",
    "    c = np.random.choice(list(harmonies_to_melodies.keys()))\n",
    "    melody = chord_to_melody(c)\n",
    "    lst = []\n",
    "    lst = add_melody_to_list(lst, melody)\n",
    "    print(\"Chord: \", chord.Chord(c).pitchedCommonName)\n",
    "    print(\"Melody: \", lst)\n",
    "\n",
    "interact(getChordAndMelody, random_seed=(0,100));"
   ]
  },
  {
   "cell_type": "code",
   "execution_count": 2,
   "metadata": {},
   "outputs": [],
   "source": [
    "# nbi:hide_in\n"
   ]
  }
 ],
 "metadata": {
  "kernelspec": {
   "display_name": "Python 3",
   "language": "python",
   "name": "python3"
  },
  "language_info": {
   "codemirror_mode": {
    "name": "ipython",
    "version": 3
   },
   "file_extension": ".py",
   "mimetype": "text/x-python",
   "name": "python",
   "nbconvert_exporter": "python",
   "pygments_lexer": "ipython3",
   "version": "3.8.3"
  }
 },
 "nbformat": 4,
 "nbformat_minor": 2
}
