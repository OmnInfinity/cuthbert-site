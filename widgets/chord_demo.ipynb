{
 "cells": [
  {
   "cell_type": "code",
   "execution_count": 1,
   "metadata": {},
   "outputs": [],
   "source": [
    "# nbi:hide_in\n",
    "from music21 import *\n",
    "from music21 import interval\n",
    "import os\n",
    "from collections import defaultdict\n",
    "from pprint import *\n",
    "import pickle\n",
    "import numpy as np\n",
    "import copy\n",
    "import random\n",
    "from ipywidgets import interact\n"
   ]
  },
  {
   "cell_type": "code",
   "execution_count": 2,
   "metadata": {
    "scrolled": false
   },
   "outputs": [],
   "source": [
    "# nbi:hide_in\n",
    "def load_all_scores_from_folder(relative_path_name: str, limit: int = 1e9):\n",
    "    # relative_path_name: path name to folder you want to load in, e.g. 'Datasets/chord_progs'\n",
    "    # limit: if you don't want to load all the midi's just load the first 'limit' that are encountered\n",
    "    # returns dict from file name to score\n",
    "    \n",
    "    scores = {}\n",
    "    count = 0\n",
    "    for subdir, dirs, files in os.walk(relative_path_name):\n",
    "        for file in files:\n",
    "            if not file.endswith('.mid'):\n",
    "                continue\n",
    "            path = os.path.join(subdir, file)\n",
    "            try:\n",
    "                score = converter.parse(path)\n",
    "                scores[path] = score\n",
    "                count += 1\n",
    "            except IndexError:\n",
    "                print('failed to load a midi')\n",
    "                \n",
    "            if count >= limit:\n",
    "                print('done, loaded', count, 'midi files')\n",
    "                return scores\n",
    "    print('done, loaded', count, 'midi files')\n",
    "    return scores"
   ]
  },
  {
   "cell_type": "code",
   "execution_count": 3,
   "metadata": {},
   "outputs": [],
   "source": [
    "# nbi:hide_in\n",
    "def filter_for_beats(beats_dict):\n",
    "    #removes all drum fills (b/c those are short and won't work well for our purposes)\n",
    "    new_dict = {}\n",
    "    for k,v in beats_dict.items():\n",
    "        if 'fill' in k:\n",
    "            continue\n",
    "        fl = False\n",
    "        for x in v.flat.getElementsByOffset(0):\n",
    "            if (isinstance(x, note.Note) and note.Note('C2') == x) or (isinstance(x, chord.Chord) and note.Note('C2') in x.notes):\n",
    "                fl = True\n",
    "                break\n",
    "        if not fl:\n",
    "            continue\n",
    "        new_dict[k] = v\n",
    "            \n",
    "            \n",
    "            \n",
    "    return new_dict\n"
   ]
  },
  {
   "cell_type": "code",
   "execution_count": 4,
   "metadata": {},
   "outputs": [],
   "source": [
    "# nbi:hide_in\n",
    "def fix_scores(sc):\n",
    "    sc = sc.makeMeasures()\n",
    "    \n",
    "    for x in sc.semiFlat.getElementsByClass(\"Measure\"):\n",
    "        remaining = x.barDuration.quarterLength - x.duration.quarterLength\n",
    "        if (remaining > 0):\n",
    "            x.insert(x.duration.quarterLength, note.Rest(quarterLength = remaining))\n",
    "    \n",
    "    return sc\n",
    "def fix_all_scores(dicto):\n",
    "    new_dict = {}\n",
    "    for k,v in dicto.items():\n",
    "        new_dict[k] = fix_scores(v)\n",
    "    return new_dict"
   ]
  },
  {
   "cell_type": "code",
   "execution_count": 5,
   "metadata": {
    "scrolled": false
   },
   "outputs": [
    {
     "name": "stdout",
     "output_type": "stream",
     "text": [
      "done, loaded 100 midi files\n"
     ]
    }
   ],
   "source": [
    "# nbi:hide_in\n",
    "def init_stuff():\n",
    "    chords_example = load_all_scores_from_folder('widgets/chord_progs')\n",
    "    chords_example = fix_all_scores(chords_example)\n",
    "\n",
    "    #transpose all chords\n",
    "    majs = 0\n",
    "    mins = 0\n",
    "    for path, score in chords_example.items():\n",
    "        #part 1: transpose\n",
    "        gg = score.analyze('key')\n",
    "\n",
    "        if gg.mode == 'major':\n",
    "            inte = interval.Interval(gg.tonic, pitch.Pitch('C'))\n",
    "            snew = score.transpose(inte)\n",
    "            majs+=1\n",
    "        elif gg.mode == 'minor':\n",
    "            inte = interval.Interval(gg.tonic, pitch.Pitch('A'))\n",
    "            snew = score.transpose(inte)\n",
    "            mins+=1  \n",
    "        chords_example[path] = snew\n",
    "    return chords_example\n",
    "chords_example = init_stuff()"
   ]
  },
  {
   "cell_type": "code",
   "execution_count": 6,
   "metadata": {},
   "outputs": [
    {
     "data": {
      "application/vnd.jupyter.widget-view+json": {
       "model_id": "d6e26cc231ba4b76bd171aa75d1b77a0",
       "version_major": 2,
       "version_minor": 0
      },
      "text/plain": [
       "interactive(children=(IntSlider(value=50, description='random_seed'), Output()), _dom_classes=('widget-interac…"
      ]
     },
     "metadata": {},
     "output_type": "display_data"
    }
   ],
   "source": [
    "# nbi:hide_in\n",
    "def generate_chords_4bars_good(random_seed):\n",
    "    #generate random chords\n",
    "    random.seed(random_seed)\n",
    "    s = random.randint(0, len(chords_example)-1)\n",
    "    \n",
    "    c = chords_example[list(chords_example)[s]]\n",
    "    if len(c) == 2:\n",
    "        print('yelp')\n",
    "        tst = stream.Score()\n",
    "        tst.append(c)\n",
    "        tst.append(copy.deepcopy(c))\n",
    "        return tst\n",
    "    c = c[0:4]\n",
    "    c.show('text')\n",
    "\n",
    "interact(generate_chords_4bars_good, random_seed=(0,100));\n"
   ]
  },
  {
   "cell_type": "code",
   "execution_count": 7,
   "metadata": {},
   "outputs": [],
   "source": [
    "# nbi:hide_in"
   ]
  }
 ],
 "metadata": {
  "kernelspec": {
   "display_name": "Python 3",
   "language": "python",
   "name": "python3"
  },
  "language_info": {
   "codemirror_mode": {
    "name": "ipython",
    "version": 3
   },
   "file_extension": ".py",
   "mimetype": "text/x-python",
   "name": "python",
   "nbconvert_exporter": "python",
   "pygments_lexer": "ipython3",
   "version": "3.8.3"
  }
 },
 "nbformat": 4,
 "nbformat_minor": 4
}
