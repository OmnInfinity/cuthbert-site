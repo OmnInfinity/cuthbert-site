{
 "cells": [
  {
   "cell_type": "code",
   "execution_count": 1,
   "metadata": {},
   "outputs": [],
   "source": [
    "# nbi:hide_in\n",
    "# from IPython.display import Audio\n",
    "# import numpy as np"
   ]
  },
  {
   "cell_type": "code",
   "execution_count": 2,
   "metadata": {},
   "outputs": [],
   "source": [
    "# # nbi:hide_in\n",
    "# signal = np.random.random(750)\n",
    "# Audio(signal, rate=250)"
   ]
  },
  {
   "cell_type": "code",
   "execution_count": 3,
   "metadata": {},
   "outputs": [
    {
     "data": {
      "application/vnd.jupyter.widget-view+json": {
       "model_id": "44254abb6fad4cf8864da09bcd8b9c2b",
       "version_major": 2,
       "version_minor": 0
      },
      "text/plain": [
       "interactive(children=(IntSlider(value=10, description='length', max=15, min=5), IntSlider(value=50, descriptio…"
      ]
     },
     "metadata": {},
     "output_type": "display_data"
    }
   ],
   "source": [
    "# nbi:hide_in\n",
    "from music21 import *\n",
    "import os\n",
    "from collections import defaultdict\n",
    "from pprint import *\n",
    "import numpy as np\n",
    "from ipywidgets import interact\n",
    "\n",
    "\n",
    "PITCHES = [\"C\", \"C#\", \"D\", \"D#\", \"E\", \"F\", \"F#\", \"G\", \"G#\", \"A\", \"A#\", \"B\"]\n",
    "OCTAVES = 7 #1 through 7\n",
    "base_dir = 'wikifonia_en_chords_lyrics'\n",
    "\n",
    "\"\"\" \n",
    "Generates transitiion matrix for first 10 C Major pieces\n",
    "Currently filters for CM, can add in transposition later\n",
    "\"\"\"\n",
    "def generateTransitionMatrix(base_dir, load=True):\n",
    "    path = 'widgets/pitch_to_pitch.npy'\n",
    "    if load:\n",
    "        with open(path, 'rb') as f:\n",
    "            a = np.load(f)\n",
    "        return a\n",
    "matrix = generateTransitionMatrix(base_dir, load=True)\n",
    "\n",
    "def all_notes():\n",
    "    notes = []\n",
    "    for o in range(OCTAVES):\n",
    "        for p in PITCHES:\n",
    "\n",
    "            notes.append(p + str(o+1))\n",
    "    return notes\n",
    "ALL_NOTES = all_notes()\n",
    "ALL_NOTES[36]\n",
    "\n",
    "def noteToIndex(n):\n",
    "    return int(n.pitch.ps)-24\n",
    "\n",
    "def getNext(matrix, n):\n",
    "    idx = noteToIndex(n)\n",
    "    transitions = matrix[idx,:]\n",
    "    choice = np.random.choice(a=ALL_NOTES, p=transitions)\n",
    "    return note.Note(choice)\n",
    "\n",
    "def generateMelodyHelper(matrix, length):\n",
    "    notes = []\n",
    "    s = stream.Stream()\n",
    "    start_note = note.Note('C4')\n",
    "    n = start_note\n",
    "    for i in range(length):\n",
    "        s.append(n)\n",
    "        n = getNext(matrix, n)\n",
    "    return s\n",
    "\n",
    "\n",
    "def generateMelody(length, random_seed):\n",
    "    np.random.seed(random_seed)\n",
    "    s = generateMelodyHelper(matrix, length)\n",
    "    for i in s:\n",
    "        print(i)\n",
    "\n",
    "interact(generateMelody, length=(5, 15), random_seed=(0,100));"
   ]
  },
  {
   "cell_type": "code",
   "execution_count": 4,
   "metadata": {},
   "outputs": [],
   "source": [
    "# nbi:hide_in\n"
   ]
  },
  {
   "cell_type": "code",
   "execution_count": null,
   "metadata": {},
   "outputs": [],
   "source": []
  }
 ],
 "metadata": {
  "kernelspec": {
   "display_name": "Python 3",
   "language": "python",
   "name": "python3"
  },
  "language_info": {
   "codemirror_mode": {
    "name": "ipython",
    "version": 3
   },
   "file_extension": ".py",
   "mimetype": "text/x-python",
   "name": "python",
   "nbconvert_exporter": "python",
   "pygments_lexer": "ipython3",
   "version": "3.8.3"
  }
 },
 "nbformat": 4,
 "nbformat_minor": 2
}
